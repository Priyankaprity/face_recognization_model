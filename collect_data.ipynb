{
 "cells": [
  {
   "cell_type": "code",
   "execution_count": null,
   "id": "a200515e",
   "metadata": {},
   "outputs": [],
   "source": [
    "\n",
    "\n",
    "import cv2\n",
    "import urllib\n",
    "import numpy as np\n",
    "\n",
    "classifier=cv2.CascadeClassifier(r\"haarcascade_frontalface_default.xml\")\n",
    "\n",
    "url=\"http://25.9.36.196:8080/shot.jpg\"\n",
    "\n",
    "data=[]\n",
    "\n",
    "while len(data)<100:\n",
    "    print(\"connecting to url\")\n",
    "    image_from_url=urllib.request.urlopen(url)\n",
    "    frame=np.array(bytearray(image_from_url.read()),np.uint8)\n",
    "    frame=cv2.imdecode(frame,-1)\n",
    "    face_frame=frame.copy()\n",
    "    \n",
    "    faces=classifier.detectMultiScale(frame,1.3,5)\n",
    "    if len(faces)>0:\n",
    "        for x,y,w,h in faces:\n",
    "            face_frame=frame[y:y+h,x:x+w].copy()\n",
    "            cv2.imshow(\"Face\",face_frame)\n",
    "            if len(data)<=100:\n",
    "                print(len(data)+1,\"/100\")\n",
    "                data.append(face_frame)\n",
    "            else:\n",
    "                break\n",
    "    cv2.imshow(\"preview window\",frame)\n",
    "    key=cv2.waitKey(25)\n",
    "    \n",
    "    if key==ord(\"q\"):\n",
    "        break\n",
    "cv2.destroyAllWindows()\n",
    "  \n",
    "\n",
    "import matplotlib.pyplot as plt\n",
    "plt.imshow(data[5])\n",
    "plt.show()\n",
    "#store data\n",
    "\n",
    "if len(data)==100:\n",
    "    name=input(\"Enter user name:\")\n",
    "    for i in range(100):\n",
    "        cv2.imwrite(\"images/\"+name+\"_\"+str(i+1)+'.jpg',data[i])\n",
    "    print(\"completed\")\n",
    "else:\n",
    "    print(\"insufficient data\")\n"
   ]
  },
  {
   "cell_type": "code",
   "execution_count": null,
   "id": "9646d75a",
   "metadata": {},
   "outputs": [],
   "source": []
  },
  {
   "cell_type": "code",
   "execution_count": null,
   "id": "820a6ee6",
   "metadata": {},
   "outputs": [],
   "source": []
  },
  {
   "cell_type": "code",
   "execution_count": null,
   "id": "034747da",
   "metadata": {},
   "outputs": [],
   "source": []
  }
 ],
 "metadata": {
  "kernelspec": {
   "display_name": "Python 3 (ipykernel)",
   "language": "python",
   "name": "python3"
  },
  "language_info": {
   "codemirror_mode": {
    "name": "ipython",
    "version": 3
   },
   "file_extension": ".py",
   "mimetype": "text/x-python",
   "name": "python",
   "nbconvert_exporter": "python",
   "pygments_lexer": "ipython3",
   "version": "3.9.12"
  }
 },
 "nbformat": 4,
 "nbformat_minor": 5
}
